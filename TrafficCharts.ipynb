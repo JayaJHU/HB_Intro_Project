{
 "cells": [
  {
   "cell_type": "code",
   "execution_count": 38,
   "metadata": {
    "collapsed": false
   },
   "outputs": [],
   "source": [
    "import numpy as np\n",
    "import seaborn as sns\n",
    "import matplotlib.pyplot as plt\n",
    "import pandas as pd\n",
    "from pandas import Series,DataFrame"
   ]
  },
  {
   "cell_type": "code",
   "execution_count": 5,
   "metadata": {
    "collapsed": false
   },
   "outputs": [
    {
     "data": {
      "text/html": [
       "<div>\n",
       "<table border=\"1\" class=\"dataframe\">\n",
       "  <thead>\n",
       "    <tr style=\"text-align: right;\">\n",
       "      <th></th>\n",
       "      <th>Friday</th>\n",
       "      <th>Tuesday</th>\n",
       "      <th>Thursday</th>\n",
       "      <th>Wednesday</th>\n",
       "      <th>Monday</th>\n",
       "    </tr>\n",
       "  </thead>\n",
       "  <tbody>\n",
       "    <tr>\n",
       "      <th>0</th>\n",
       "      <td>674237</td>\n",
       "      <td>712047</td>\n",
       "      <td>698467</td>\n",
       "      <td>714013</td>\n",
       "      <td>672383</td>\n",
       "    </tr>\n",
       "  </tbody>\n",
       "</table>\n",
       "</div>"
      ],
      "text/plain": [
       "   Friday  Tuesday  Thursday  Wednesday  Monday\n",
       "0  674237   712047    698467     714013  672383"
      ]
     },
     "execution_count": 5,
     "metadata": {},
     "output_type": "execute_result"
    }
   ],
   "source": [
    "days = pd.read_csv(\"days.csv\")\n",
    "\n",
    "days"
   ]
  },
  {
   "cell_type": "code",
   "execution_count": 7,
   "metadata": {
    "collapsed": false
   },
   "outputs": [],
   "source": [
    "%matplotlib inline"
   ]
  },
  {
   "cell_type": "code",
   "execution_count": 8,
   "metadata": {
    "collapsed": false,
    "scrolled": true
   },
   "outputs": [
    {
     "data": {
      "text/plain": [
       "<matplotlib.axes._subplots.AxesSubplot at 0x1c909198>"
      ]
     },
     "execution_count": 8,
     "metadata": {},
     "output_type": "execute_result"
    },
    {
     "data": {
      "image/png": "[encoded data removed]",
      "text/plain": [
       "<matplotlib.figure.Figure at 0x424f748>"
      ]
     },
     "metadata": {},
     "output_type": "display_data"
    }
   ],
   "source": [
    "days.plot(kind='bar')"
   ]
  },
  {
   "cell_type": "code",
   "execution_count": 10,
   "metadata": {
    "collapsed": false
   },
   "outputs": [
    {
     "data": {
      "text/html": [
       "<div>\n",
       "<table border=\"1\" class=\"dataframe\">\n",
       "  <thead>\n",
       "    <tr style=\"text-align: right;\">\n",
       "      <th></th>\n",
       "      <th>06_june</th>\n",
       "      <th>03_mar</th>\n",
       "      <th>01_jan</th>\n",
       "      <th>12_dec</th>\n",
       "      <th>07_july</th>\n",
       "      <th>11_nov</th>\n",
       "      <th>02_feb</th>\n",
       "      <th>08_aug</th>\n",
       "      <th>09_sept</th>\n",
       "      <th>04_apr</th>\n",
       "      <th>05_may</th>\n",
       "      <th>10_oct</th>\n",
       "    </tr>\n",
       "  </thead>\n",
       "  <tbody>\n",
       "    <tr>\n",
       "      <th>0</th>\n",
       "      <td>290840</td>\n",
       "      <td>284291</td>\n",
       "      <td>289502</td>\n",
       "      <td>268211</td>\n",
       "      <td>309851</td>\n",
       "      <td>264338</td>\n",
       "      <td>263060</td>\n",
       "      <td>288574</td>\n",
       "      <td>297297</td>\n",
       "      <td>297004</td>\n",
       "      <td>293595</td>\n",
       "      <td>324584</td>\n",
       "    </tr>\n",
       "  </tbody>\n",
       "</table>\n",
       "</div>"
      ],
      "text/plain": [
       "   06_june  03_mar  01_jan  12_dec  07_july  11_nov  02_feb  08_aug  09_sept  \\\n",
       "0   290840  284291  289502  268211   309851  264338  263060  288574   297297   \n",
       "\n",
       "   04_apr  05_may  10_oct  \n",
       "0  297004  293595  324584  "
      ]
     },
     "execution_count": 10,
     "metadata": {},
     "output_type": "execute_result"
    }
   ],
   "source": [
    "import pandas as pd\n",
    "month = pd.read_csv(\"month.csv\")\n",
    "month = month.sort_index()\n",
    "month"
   ]
  },
  {
   "cell_type": "code",
   "execution_count": 25,
   "metadata": {
    "collapsed": false
   },
   "outputs": [
    {
     "data": {
      "text/plain": [
       "<matplotlib.axes._subplots.AxesSubplot at 0xdda65f8>"
      ]
     },
     "execution_count": 25,
     "metadata": {},
     "output_type": "execute_result"
    },
    {
     "data": {
      "image/png": "[encoded data removed]",
      "text/plain": [
       "<matplotlib.figure.Figure at 0xc51f1d0>"
      ]
     },
     "metadata": {},
     "output_type": "display_data"
    }
   ],
   "source": [
    "# from matplotlib import pyplot as plt  \n",
    "# plt.xlabel('month', fontsize=18)\n",
    "import matplotlib.colors as colors\n",
    "%matplotlib inline\n",
    "\n",
    "import matplotlib.pyplot as plt\n",
    "\n",
    "import pylab as pl\n",
    "\n",
    "# N, bins, patches = pl.hist(pl.rand(1000), 20)\n",
    "\n",
    "# jet = pl.get_cmap('jet', len(month))\n",
    "\n",
    "# for i in range(len(month)):\n",
    "#     month[i].set_facecolor(jet(i))\n",
    "\n",
    "month.plot(kind='bar')\n",
    "#month\n",
    "\n",
    "\n"
   ]
  },
  {
   "cell_type": "code",
   "execution_count": 39,
   "metadata": {
    "collapsed": false
   },
   "outputs": [
    {
     "name": "stderr",
     "output_type": "stream",
     "text": [
      "C:\\Users\\Jaya\\Anaconda2\\lib\\site-packages\\ipykernel\\__main__.py:3: FutureWarning: sort(....) is deprecated, use sort_index(.....)\n",
      "  app.launch_new_instance()\n"
     ]
    },
    {
     "data": {
      "text/html": [
       "<div>\n",
       "<table border=\"1\" class=\"dataframe\">\n",
       "  <thead>\n",
       "    <tr style=\"text-align: right;\">\n",
       "      <th></th>\n",
       "      <th>0</th>\n",
       "    </tr>\n",
       "  </thead>\n",
       "  <tbody>\n",
       "    <tr>\n",
       "      <th>week 0</th>\n",
       "      <td>23665</td>\n",
       "    </tr>\n",
       "    <tr>\n",
       "      <th>week 01</th>\n",
       "      <td>66643</td>\n",
       "    </tr>\n",
       "    <tr>\n",
       "      <th>week 02</th>\n",
       "      <td>67116</td>\n",
       "    </tr>\n",
       "    <tr>\n",
       "      <th>week 03</th>\n",
       "      <td>64369</td>\n",
       "    </tr>\n",
       "    <tr>\n",
       "      <th>week 04</th>\n",
       "      <td>67709</td>\n",
       "    </tr>\n",
       "    <tr>\n",
       "      <th>week 05</th>\n",
       "      <td>66908</td>\n",
       "    </tr>\n",
       "    <tr>\n",
       "      <th>week 06</th>\n",
       "      <td>67696</td>\n",
       "    </tr>\n",
       "    <tr>\n",
       "      <th>week 07</th>\n",
       "      <td>61477</td>\n",
       "    </tr>\n",
       "    <tr>\n",
       "      <th>week 08</th>\n",
       "      <td>66979</td>\n",
       "    </tr>\n",
       "    <tr>\n",
       "      <th>week 09</th>\n",
       "      <td>68507</td>\n",
       "    </tr>\n",
       "    <tr>\n",
       "      <th>week 10</th>\n",
       "      <td>67204</td>\n",
       "    </tr>\n",
       "    <tr>\n",
       "      <th>week 11</th>\n",
       "      <td>68398</td>\n",
       "    </tr>\n",
       "    <tr>\n",
       "      <th>week 12</th>\n",
       "      <td>67422</td>\n",
       "    </tr>\n",
       "    <tr>\n",
       "      <th>week 13</th>\n",
       "      <td>66154</td>\n",
       "    </tr>\n",
       "    <tr>\n",
       "      <th>week 14</th>\n",
       "      <td>68153</td>\n",
       "    </tr>\n",
       "    <tr>\n",
       "      <th>week 15</th>\n",
       "      <td>67157</td>\n",
       "    </tr>\n",
       "    <tr>\n",
       "      <th>week 16</th>\n",
       "      <td>67227</td>\n",
       "    </tr>\n",
       "    <tr>\n",
       "      <th>week 17</th>\n",
       "      <td>68476</td>\n",
       "    </tr>\n",
       "    <tr>\n",
       "      <th>week 18</th>\n",
       "      <td>68381</td>\n",
       "    </tr>\n",
       "    <tr>\n",
       "      <th>week 19</th>\n",
       "      <td>69558</td>\n",
       "    </tr>\n",
       "    <tr>\n",
       "      <th>week 20</th>\n",
       "      <td>68268</td>\n",
       "    </tr>\n",
       "    <tr>\n",
       "      <th>week 21</th>\n",
       "      <td>59985</td>\n",
       "    </tr>\n",
       "    <tr>\n",
       "      <th>week 22</th>\n",
       "      <td>70430</td>\n",
       "    </tr>\n",
       "    <tr>\n",
       "      <th>week 23</th>\n",
       "      <td>68540</td>\n",
       "    </tr>\n",
       "    <tr>\n",
       "      <th>week 24</th>\n",
       "      <td>68887</td>\n",
       "    </tr>\n",
       "    <tr>\n",
       "      <th>week 25</th>\n",
       "      <td>69528</td>\n",
       "    </tr>\n",
       "    <tr>\n",
       "      <th>week 26</th>\n",
       "      <td>56632</td>\n",
       "    </tr>\n",
       "    <tr>\n",
       "      <th>week 27</th>\n",
       "      <td>69460</td>\n",
       "    </tr>\n",
       "    <tr>\n",
       "      <th>week 28</th>\n",
       "      <td>68619</td>\n",
       "    </tr>\n",
       "    <tr>\n",
       "      <th>week 29</th>\n",
       "      <td>70930</td>\n",
       "    </tr>\n",
       "    <tr>\n",
       "      <th>week 30</th>\n",
       "      <td>70949</td>\n",
       "    </tr>\n",
       "    <tr>\n",
       "      <th>week 31</th>\n",
       "      <td>68791</td>\n",
       "    </tr>\n",
       "    <tr>\n",
       "      <th>week 32</th>\n",
       "      <td>68804</td>\n",
       "    </tr>\n",
       "    <tr>\n",
       "      <th>week 33</th>\n",
       "      <td>69960</td>\n",
       "    </tr>\n",
       "    <tr>\n",
       "      <th>week 34</th>\n",
       "      <td>67735</td>\n",
       "    </tr>\n",
       "    <tr>\n",
       "      <th>week 35</th>\n",
       "      <td>59207</td>\n",
       "    </tr>\n",
       "    <tr>\n",
       "      <th>week 36</th>\n",
       "      <td>70269</td>\n",
       "    </tr>\n",
       "    <tr>\n",
       "      <th>week 37</th>\n",
       "      <td>70299</td>\n",
       "    </tr>\n",
       "    <tr>\n",
       "      <th>week 38</th>\n",
       "      <td>69827</td>\n",
       "    </tr>\n",
       "    <tr>\n",
       "      <th>week 39</th>\n",
       "      <td>70046</td>\n",
       "    </tr>\n",
       "    <tr>\n",
       "      <th>week 40</th>\n",
       "      <td>70308</td>\n",
       "    </tr>\n",
       "    <tr>\n",
       "      <th>week 41</th>\n",
       "      <td>69774</td>\n",
       "    </tr>\n",
       "    <tr>\n",
       "      <th>week 42</th>\n",
       "      <td>72395</td>\n",
       "    </tr>\n",
       "    <tr>\n",
       "      <th>week 43</th>\n",
       "      <td>69756</td>\n",
       "    </tr>\n",
       "    <tr>\n",
       "      <th>week 44</th>\n",
       "      <td>71348</td>\n",
       "    </tr>\n",
       "    <tr>\n",
       "      <th>week 45</th>\n",
       "      <td>71399</td>\n",
       "    </tr>\n",
       "    <tr>\n",
       "      <th>week 46</th>\n",
       "      <td>70874</td>\n",
       "    </tr>\n",
       "    <tr>\n",
       "      <th>week 47</th>\n",
       "      <td>50717</td>\n",
       "    </tr>\n",
       "    <tr>\n",
       "      <th>week 48</th>\n",
       "      <td>67982</td>\n",
       "    </tr>\n",
       "    <tr>\n",
       "      <th>week 49</th>\n",
       "      <td>65126</td>\n",
       "    </tr>\n",
       "    <tr>\n",
       "      <th>week 50</th>\n",
       "      <td>67486</td>\n",
       "    </tr>\n",
       "    <tr>\n",
       "      <th>week 51</th>\n",
       "      <td>41115</td>\n",
       "    </tr>\n",
       "    <tr>\n",
       "      <th>week 52</th>\n",
       "      <td>26502</td>\n",
       "    </tr>\n",
       "  </tbody>\n",
       "</table>\n",
       "</div>"
      ],
      "text/plain": [
       "             0\n",
       "week 0   23665\n",
       "week 01  66643\n",
       "week 02  67116\n",
       "week 03  64369\n",
       "week 04  67709\n",
       "week 05  66908\n",
       "week 06  67696\n",
       "week 07  61477\n",
       "week 08  66979\n",
       "week 09  68507\n",
       "week 10  67204\n",
       "week 11  68398\n",
       "week 12  67422\n",
       "week 13  66154\n",
       "week 14  68153\n",
       "week 15  67157\n",
       "week 16  67227\n",
       "week 17  68476\n",
       "week 18  68381\n",
       "week 19  69558\n",
       "week 20  68268\n",
       "week 21  59985\n",
       "week 22  70430\n",
       "week 23  68540\n",
       "week 24  68887\n",
       "week 25  69528\n",
       "week 26  56632\n",
       "week 27  69460\n",
       "week 28  68619\n",
       "week 29  70930\n",
       "week 30  70949\n",
       "week 31  68791\n",
       "week 32  68804\n",
       "week 33  69960\n",
       "week 34  67735\n",
       "week 35  59207\n",
       "week 36  70269\n",
       "week 37  70299\n",
       "week 38  69827\n",
       "week 39  70046\n",
       "week 40  70308\n",
       "week 41  69774\n",
       "week 42  72395\n",
       "week 43  69756\n",
       "week 44  71348\n",
       "week 45  71399\n",
       "week 46  70874\n",
       "week 47  50717\n",
       "week 48  67982\n",
       "week 49  65126\n",
       "week 50  67486\n",
       "week 51  41115\n",
       "week 52  26502"
      ]
     },
     "execution_count": 39,
     "metadata": {},
     "output_type": "execute_result"
    }
   ],
   "source": [
    "week = pd.read_csv(\"week.csv\")\n",
    "week = week.transpose()\n",
    "week = week.sort()\n",
    "week"
   ]
  },
  {
   "cell_type": "code",
   "execution_count": 26,
   "metadata": {
    "collapsed": false
   },
   "outputs": [
    {
     "data": {
      "text/plain": [
       "<matplotlib.axes._subplots.AxesSubplot at 0x21e5a9e8>"
      ]
     },
     "execution_count": 26,
     "metadata": {},
     "output_type": "execute_result"
    },
    {
     "data": {
      "image/png": "[encoded data removed]",
      "text/plain": [
       "<matplotlib.figure.Figure at 0x21ed25c0>"
      ]
     },
     "metadata": {},
     "output_type": "display_data"
    }
   ],
   "source": [
    "week.plot(kind=\"bar\")"
   ]
  },
  {
   "cell_type": "code",
   "execution_count": 29,
   "metadata": {
    "collapsed": false
   },
   "outputs": [
    {
     "data": {
      "text/html": [
       "<div>\n",
       "<table border=\"1\" class=\"dataframe\">\n",
       "  <thead>\n",
       "    <tr style=\"text-align: right;\">\n",
       "      <th></th>\n",
       "      <th>am9</th>\n",
       "      <th>am8</th>\n",
       "      <th>pm6</th>\n",
       "      <th>pm3</th>\n",
       "      <th>pm4</th>\n",
       "      <th>pm5</th>\n",
       "      <th>am5</th>\n",
       "      <th>am7</th>\n",
       "      <th>am6</th>\n",
       "    </tr>\n",
       "  </thead>\n",
       "  <tbody>\n",
       "    <tr>\n",
       "      <th>0</th>\n",
       "      <td>409583</td>\n",
       "      <td>496548</td>\n",
       "      <td>393578</td>\n",
       "      <td>400395</td>\n",
       "      <td>407199</td>\n",
       "      <td>456113</td>\n",
       "      <td>130325</td>\n",
       "      <td>464094</td>\n",
       "      <td>313279</td>\n",
       "    </tr>\n",
       "  </tbody>\n",
       "</table>\n",
       "</div>"
      ],
      "text/plain": [
       "      am9     am8     pm6     pm3     pm4     pm5     am5     am7     am6\n",
       "0  409583  496548  393578  400395  407199  456113  130325  464094  313279"
      ]
     },
     "execution_count": 29,
     "metadata": {},
     "output_type": "execute_result"
    }
   ],
   "source": [
    "hour = pd.read_csv(\"hour.csv\")\n",
    "hour"
   ]
  },
  {
   "cell_type": "code",
   "execution_count": 33,
   "metadata": {
    "collapsed": false
   },
   "outputs": [
    {
     "data": {
      "text/plain": [
       "<matplotlib.axes._subplots.AxesSubplot at 0x22ead6a0>"
      ]
     },
     "execution_count": 33,
     "metadata": {},
     "output_type": "execute_result"
    },
    {
     "data": {
      "image/png": "[encoded data removed]",
      "text/plain": [
       "<matplotlib.figure.Figure at 0x22ff7a58>"
      ]
     },
     "metadata": {},
     "output_type": "display_data"
    }
   ],
   "source": [
    "hour.plot(kind='bar')"
   ]
  },
  {
   "cell_type": "code",
   "execution_count": 36,
   "metadata": {
    "collapsed": false
   },
   "outputs": [
    {
     "data": {
      "text/html": [
       "<div>\n",
       "<table border=\"1\" class=\"dataframe\">\n",
       "  <thead>\n",
       "    <tr style=\"text-align: right;\">\n",
       "      <th></th>\n",
       "      <th>West</th>\n",
       "      <th>East</th>\n",
       "    </tr>\n",
       "  </thead>\n",
       "  <tbody>\n",
       "    <tr>\n",
       "      <th>0</th>\n",
       "      <td>2099200</td>\n",
       "      <td>1371947</td>\n",
       "    </tr>\n",
       "  </tbody>\n",
       "</table>\n",
       "</div>"
      ],
      "text/plain": [
       "      West     East\n",
       "0  2099200  1371947"
      ]
     },
     "execution_count": 36,
     "metadata": {},
     "output_type": "execute_result"
    }
   ],
   "source": [
    "direction = pd.read_csv(\"direction.csv\")\n",
    "direction"
   ]
  },
  {
   "cell_type": "code",
   "execution_count": 37,
   "metadata": {
    "collapsed": false
   },
   "outputs": [
    {
     "data": {
      "text/plain": [
       "<matplotlib.axes._subplots.AxesSubplot at 0x22ed22e8>"
      ]
     },
     "execution_count": 37,
     "metadata": {},
     "output_type": "execute_result"
    },
    {
     "data": {
      "image/png": "[encoded data removed]",
      "text/plain": [
       "<matplotlib.figure.Figure at 0x23330128>"
      ]
     },
     "metadata": {},
     "output_type": "display_data"
    }
   ],
   "source": [
    "direction.plot(kind= \"bar\")"
   ]
  },
  {
   "cell_type": "code",
   "execution_count": null,
   "metadata": {
    "collapsed": true
   },
   "outputs": [],
   "source": []
  }
 ],
 "metadata": {
  "kernelspec": {
   "display_name": "Python 2",
   "language": "python",
   "name": "python2"
  },
  "language_info": {
   "codemirror_mode": {
    "name": "ipython",
    "version": 2
   },
   "file_extension": ".py",
   "mimetype": "text/x-python",
   "name": "python",
   "nbconvert_exporter": "python",
   "pygments_lexer": "ipython2",
   "version": "2.7.11"
  }
 },
 "nbformat": 4,
 "nbformat_minor": 0
}
